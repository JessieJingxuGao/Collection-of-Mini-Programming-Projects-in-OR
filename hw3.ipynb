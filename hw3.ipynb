{
 "cells": [
  {
   "cell_type": "code",
   "execution_count": 47,
   "metadata": {
    "collapsed": false
   },
   "outputs": [
    {
     "data": {
      "application/javascript": [
       "IPython.notebook.set_autosave_interval(60000)"
      ]
     },
     "metadata": {},
     "output_type": "display_data"
    },
    {
     "name": "stdout",
     "output_type": "stream",
     "text": [
      "Autosaving every 60 seconds\n"
     ]
    }
   ],
   "source": [
    "%autosave 60\n",
    "import numpy as np\n",
    "import pandas as pd"
   ]
  },
  {
   "cell_type": "markdown",
   "metadata": {},
   "source": [
    "# Q1\n",
    "## P-center greedy heuristics "
   ]
  },
  {
   "cell_type": "markdown",
   "metadata": {},
   "source": [
    "#### Dijkstra Algorithm to find distances between every pair of nodes\n",
    "https://github.com/xsank/cabbird/blob/master/graph/dijkstra.py"
   ]
  },
  {
   "cell_type": "code",
   "execution_count": 4,
   "metadata": {
    "collapsed": false
   },
   "outputs": [
    {
     "name": "stdout",
     "output_type": "stream",
     "text": [
      "{'a': {'a': 0, 'e': 12, 'c': 4, 'f': 7, 'd': 5, 'b': 7, 'g': 14}, 'e': {'a': 12, 'e': 0, 'c': 16, 'f': 14, 'd': 15, 'b': 5, 'g': 6}, 'c': {'a': 4, 'e': 16, 'c': 0, 'f': 3, 'd': 7, 'b': 11, 'g': 11}, 'f': {'a': 7, 'e': 14, 'c': 3, 'f': 0, 'd': 5, 'b': 14, 'g': 8}, 'd': {'a': 5, 'e': 15, 'c': 7, 'f': 5, 'd': 0, 'b': 12, 'g': 9}, 'b': {'a': 7, 'e': 5, 'c': 11, 'f': 14, 'd': 12, 'b': 0, 'g': 11}, 'g': {'a': 14, 'e': 6, 'c': 11, 'f': 8, 'd': 9, 'b': 11, 'g': 0}}\n"
     ]
    }
   ],
   "source": [
    "from collections import defaultdict\n",
    "\n",
    "def dijkstra(g,start,end):\n",
    "    if start==end:\n",
    "        return 0\n",
    "    if not (start in g and end in g):\n",
    "        raise Exception('invalid node %s or %s' % (start,end))\n",
    "    labels={}\n",
    "    path=defaultdict(list)\n",
    "    for vertex in g:\n",
    "        labels[vertex]=0 if vertex==start else float(\"inf\")\n",
    "    drops=labels.copy()\n",
    "    while drops:\n",
    "        min_v=min(drops,key=drops.get)\n",
    "        path[min_v].append(min_v)\n",
    "        for i in g[min_v]:\n",
    "            if labels[i]>(labels[min_v]+g[min_v][i]):\n",
    "                drops[i]=labels[i]=labels[min_v]+g[min_v][i]\n",
    "                path[i]=[]\n",
    "                path[i].extend(path[min_v])\n",
    "        del drops[min_v]\n",
    "#     result=[]\n",
    "#     result.append(path[end])\n",
    "#     result.append(labels[end])\n",
    "    return labels[end]\n",
    "\n",
    "def get_vertices(g):\n",
    "    temp=[]\n",
    "    for item in g:\n",
    "        temp.append(item)\n",
    "    return temp\n",
    "\n",
    "if __name__==\"__main__\":\n",
    "    \n",
    "    G = {\n",
    "    'a':{'b':7,'c':4,'d':5},\n",
    "    'b':{'a':7,'e':5},\n",
    "    'c':{'a':4,'d':7,'f':3},\n",
    "    'd':{'a':5,'c':7,'f':5,'g':9},\n",
    "    'e':{'b':5,'g':6},\n",
    "    'f':{'c':3,'d':5,'g':8},\n",
    "    'g':{'d':9,'e':6,'f':8}\n",
    "}\n",
    "    \n",
    "    \n",
    "#     dijkstra(G,'a','f')\n",
    "\n",
    "    Vertices = get_vertices(G)\n",
    "    \n",
    "    Distance_Matrix = {}\n",
    "    for i in Vertices:\n",
    "        Distance_Matrix [i] = {}\n",
    "\n",
    "    for i in Vertices:\n",
    "        for j in Vertices:\n",
    "            Distance_Matrix [i][j] = dijkstra(G,i,j)\n",
    "\n",
    "    print(Distance_Matrix)\n",
    "#     print(Distance_Matrix['a']['f'])\n"
   ]
  },
  {
   "cell_type": "markdown",
   "metadata": {},
   "source": [
    "#### Greedy Heuristics "
   ]
  },
  {
   "cell_type": "code",
   "execution_count": 5,
   "metadata": {
    "collapsed": false
   },
   "outputs": [
    {
     "name": "stdout",
     "output_type": "stream",
     "text": [
      "['a', 'g', 'f']\n"
     ]
    }
   ],
   "source": [
    "s=[]\n",
    "\n",
    "# random choose one node: here we choose the first node in Vertices\n",
    "s.append(Vertices[0])\n",
    "\n",
    "\n",
    "# first iteration\n",
    "temp = 0\n",
    "for j in Vertices:\n",
    "    if j not in s:\n",
    "        if Distance_Matrix [s[0]][j] > temp:\n",
    "            temp = Distance_Matrix [s[0]][j] \n",
    "            firstIter = j\n",
    "s.append(firstIter)  \n",
    "            \n",
    "# later iteration\n",
    "temp = 0\n",
    "for j in Vertices:\n",
    "    if j not in s:\n",
    "        temp2= 9^999\n",
    "        for i in s:\n",
    "#             print(i,j,Distance_Matrix [i][j])\n",
    "            if Distance_Matrix [i][j] < temp2:\n",
    "                temp2 = Distance_Matrix [i][j] \n",
    "#         print(j,\"-\",temp2)\n",
    "        if temp2 > temp:\n",
    "            temp = temp2\n",
    "            nextIter = j\n",
    "            \n",
    "# iteration until\n",
    "s.append(nextIter)        \n",
    "\n",
    "print(s)"
   ]
  },
  {
   "cell_type": "markdown",
   "metadata": {},
   "source": [
    "#### Solution:\n",
    "#### Since we only need to allocate 2 facilities among 7 demand nodes, we could stop when two nodes have been chosen. So the solution is the previosu two nodes."
   ]
  },
  {
   "cell_type": "markdown",
   "metadata": {
    "collapsed": true
   },
   "source": [
    "# Q3\n",
    "## Clarke & Wright’s savings algorithm\n",
    "\n",
    "Implement the Clarke & Wright’s savings algorithm for the setting we discussed in class. Specifically, we have n demand locations: i = 1, . . . , n, and a location 0 which is the base of our fleet. There is no constraint on the number of vehicles. Each vehicle has a capacity constraint C. You would use the savings algorithm to find a set of routes to cover all demand locations, where each route starts and ends at location 0, and no demand locations appear in more than 1 route.  \n",
    "\n",
    "Your algorithm should return a list of routes, as well as the total demand of each route. For example, in class we ran the savings algorithm manually on an example set of 7 demand nodes and obtained a solution with 4 routes: 0−4−0, 0−5−0, 0−2−3−0, 0−1−7−6−0, each with total demand 16, 15, 18 and 18. For this example your algorithm should return two lists: [[5], [4], [2,3], [1,7,6]], [16, 15, 18, 18], note the order of the two lists must match, i.e., the first entry of the second list must be the demand of the first entry of the first list, and so forth.\n"
   ]
  },
  {
   "cell_type": "markdown",
   "metadata": {},
   "source": [
    "#### Implementation of Clark Wright\n",
    "\n",
    "\n",
    "Ways to improve efficiency:\n",
    "-  Use double ended que (deque) to represent route so that the routes can be merged conviniently as only the starting or ending node on a route can be connected when routes are merged\n",
    "-  Use a dict (python implements it by hashmap) to store the starting and ending node on a route (but we need to check mannually whether the node is starting or ending)"
   ]
  },
  {
   "cell_type": "code",
   "execution_count": 11,
   "metadata": {
    "collapsed": false
   },
   "outputs": [
    {
     "ename": "IndentationError",
     "evalue": "unindent does not match any outer indentation level (<ipython-input-11-070851fb4e7b>, line 20)",
     "output_type": "error",
     "traceback": [
      "\u001b[0;36m  File \u001b[0;32m\"<ipython-input-11-070851fb4e7b>\"\u001b[0;36m, line \u001b[0;32m20\u001b[0m\n\u001b[0;31m    result=[]\u001b[0m\n\u001b[0m             ^\u001b[0m\n\u001b[0;31mIndentationError\u001b[0m\u001b[0;31m:\u001b[0m unindent does not match any outer indentation level\n"
     ]
    }
   ],
   "source": [
    "\n",
    "from collections import deque\n",
    "\n",
    "\n",
    "def savings_clarke_wright(demand, distance, capacity):\n",
    "      \"\"\"\n",
    "      demand: @list[float], the demand of each location. If there are N demand\n",
    "               locations, this list will be an 1*(N+1) list, where demand[i] is\n",
    "               the demand for location i, for i=1, ..., N. demand[0] is always 0.\n",
    "      distance: @list[list[float]], the distance between each pair of locations.\n",
    "               If there are N demand locations(and 0 is the base), this 2-d list\n",
    "               will have size (N+1)*(N+1), where distance[i][j] is the distance\n",
    "               between location i and location j. You may assume distance[i][i]\n",
    "               is 0 for all i and distance[i][j] = distance[j][i] for all i,j.\n",
    "      capacity: @float, the capacity constraint for each vehicle.\n",
    "      return\n",
    "        routes:@list[list[int]], list of routes computed by the algorithm.\n",
    "        order:@list[float], list of total demand corresponding to each route.\n",
    "      \"\"\"\n",
    "    result=[]\n",
    "    result.append(routes)\n",
    "    result.append(order)\n",
    "    return result"
   ]
  },
  {
   "cell_type": "markdown",
   "metadata": {},
   "source": [
    "#### Data input\n",
    "Capacity constraint is 25 units."
   ]
  },
  {
   "cell_type": "code",
   "execution_count": 6,
   "metadata": {
    "collapsed": true
   },
   "outputs": [],
   "source": [
    "C = 25\n",
    "# We could here input as integer rather than float."
   ]
  },
  {
   "cell_type": "markdown",
   "metadata": {},
   "source": [
    "The distance matrix is as follows."
   ]
  },
  {
   "cell_type": "code",
   "execution_count": 7,
   "metadata": {
    "collapsed": false
   },
   "outputs": [
    {
     "data": {
      "text/plain": [
       "array([[ 0.  ,  6.23,  4.48,  2.83,  4.  ,  5.  ,  2.  ,  5.45],\n",
       "       [ 6.23,  0.  ,  5.66,  6.16,  8.  ,  8.24,  7.47,  9.16],\n",
       "       [ 4.48,  5.66,  0.  ,  2.83,  5.66,  8.06,  6.  ,  3.62],\n",
       "       [ 2.83,  6.16,  2.83,  0.  ,  2.83,  5.39,  7.47,  7.07],\n",
       "       [ 4.  ,  8.  ,  5.66,  2.83,  0.  ,  3.  ,  7.47,  2.62],\n",
       "       [ 5.  ,  8.24,  8.06,  5.39,  3.  ,  0.  ,  7.47,  3.5 ],\n",
       "       [ 2.  ,  7.47,  6.  ,  7.47,  7.47,  7.47,  0.  ,  2.16],\n",
       "       [ 5.45,  9.16,  3.62,  7.07,  2.62,  3.5 ,  2.16,  0.  ]])"
      ]
     },
     "execution_count": 7,
     "metadata": {},
     "output_type": "execute_result"
    }
   ],
   "source": [
    "df = pd.read_clipboard(header=None) \n",
    "distanceMatrix = df.as_matrix()\n",
    "distanceMatrix"
   ]
  },
  {
   "cell_type": "markdown",
   "metadata": {},
   "source": [
    "Demand of each node is as follows. Node 0 is deport with 0 demand."
   ]
  },
  {
   "cell_type": "code",
   "execution_count": 8,
   "metadata": {
    "collapsed": false
   },
   "outputs": [
    {
     "data": {
      "text/plain": [
       "array([ 0, 10, 12,  6, 13, 14,  7, 10])"
      ]
     },
     "execution_count": 8,
     "metadata": {},
     "output_type": "execute_result"
    }
   ],
   "source": [
    "df = pd.read_clipboard(header=None) \n",
    "demandMatrix = df.as_matrix()\n",
    "demandMatrix = demandMatrix.T\n",
    "demandList = demandMatrix[0] # array([[ 75,...,25]])\n",
    "demandList\n",
    "# We could here input as integer rather than float."
   ]
  },
  {
   "cell_type": "markdown",
   "metadata": {
    "collapsed": false
   },
   "source": [
    "#### Model solving"
   ]
  },
  {
   "cell_type": "code",
   "execution_count": null,
   "metadata": {
    "collapsed": true
   },
   "outputs": [],
   "source": [
    "if __name__==\"__main__\":\n",
    "    print(savings_clarke_wright(demandlist, distanceMatrix, C))"
   ]
  },
  {
   "cell_type": "code",
   "execution_count": 69,
   "metadata": {
    "collapsed": false
   },
   "outputs": [
    {
     "name": "stdout",
     "output_type": "stream",
     "text": [
      "{(6, 6): deque(['6']), (5, 5): deque(['5']), (2, 2): deque(['2']), (7, 7): deque(['7']), (4, 4): deque(['4']), (1, 1): deque(['1']), (3, 3): deque(['3'])}\n",
      "{1, 2}\n",
      "{1, 2, '9'}\n"
     ]
    }
   ],
   "source": [
    "from collections import deque\n",
    "\n",
    "demand = demandList\n",
    "distance = distanceMatrix\n",
    "capacity = C\n",
    "\n",
    "\n",
    "# 1)initialize solutions\n",
    "route = {}\n",
    "for i in range(1,len(distance)):\n",
    "    temp=(i,i)\n",
    "    route[temp] = deque('%s' %i) #'0' and '-' is set be added later\n",
    "print(route)\n",
    "\n",
    "\n",
    "# 2) calculate savings \n",
    "num_node = len(distance)\n",
    "savings_pair = {}\n",
    "savings_value = {}\n",
    "key_index = 0\n",
    "for i in range(1,num_node):\n",
    "    for j in range(num_node):\n",
    "        if i<j:\n",
    "            temp = []\n",
    "            temp.append(i)\n",
    "            temp.append(j)\n",
    "            savings_pair[key_index]=temp\n",
    "            savings_value[key_index]= distance[i][0] + distance[j][0] - distance[i][j]\n",
    "            key_index +=1                \n",
    "# print(savings_pair)\n",
    "# print(savings_value)\n",
    "# print(sorted(savings_value.items(), key=lambda x:x[1],reverse=True))\n",
    "\n",
    "savings_index=[]\n",
    "for item in sorted(savings_value.items(), key=lambda x:x[1],reverse=True):\n",
    "    if item[1]>0:\n",
    "        savings_index.append(item[0])    \n",
    "# print(savings_index)\n",
    "\n",
    "# 3) check whether routes can be merged and merge \n",
    "# • The two delivery locations are not already on the same route;\n",
    "# • Neither delivery location is interior to its route, meaning that both notes are still directly connected to the depot on their respective routes(if either node is not directly connected to home depot, then any possible way of merging the two routes will not reduce the total travel distance by sij as expected).\n",
    "# • The vehicle capacity constraints are not violated by the merged route.\n",
    "def merge_pair(s):\n",
    "    nodes = savings_pair[s]\n",
    "    if nodes[0] in route.keys() and nodes[1] in route.keys(): #starting and ending points\n",
    "        deque1 = route[nodes[0]]\n",
    "        deque2 = route[nodes[1]]\n",
    "        if set(deque1) != set(deque2): # not on the same route\n",
    "            if deque_capacity(deque1)+deque_capacity(deque2)<=C: # not exceeding capacity\n",
    "                route[nodes[0]].append[nodes[1]]\n",
    "                route[nodes[1]].append[nodes[1]] # keeping route numbered with increasing node ids\n",
    "    \n",
    "def edge_nodes(r):\n",
    "    temp=set()\n",
    "    for item in r.values():\n",
    "        print(\"item\",item)\n",
    "        for i in list(item):\n",
    "            print(\"i\",i)\n",
    "            temp.add(i)\n",
    "    return temp\n",
    "            \n",
    "        \n",
    "\n",
    "m = set(b)\n",
    "print(m)\n",
    "m.add('9')\n",
    "print(m)\n",
    "        \n",
    "        \n",
    "    \n",
    "    \n",
    "def deque_capacity(d):\n",
    "    temp=0\n",
    "    for item in d:\n",
    "         temp+=demandList[item]\n",
    "    return temp\n",
    "\n",
    "\n",
    " \n",
    "# d[0]\n",
    "# d[-1] \n",
    "    "
   ]
  },
  {
   "cell_type": "code",
   "execution_count": 103,
   "metadata": {
    "collapsed": false
   },
   "outputs": [
    {
     "name": "stdout",
     "output_type": "stream",
     "text": [
      "0 1\n",
      "0 2\n",
      "0 3\n",
      "0 4\n",
      "0 5\n",
      "0 6\n",
      "1 2\n",
      "1 3\n",
      "1 4\n",
      "1 5\n",
      "1 6\n"
     ]
    },
    {
     "ename": "IndexError",
     "evalue": "list index out of range",
     "output_type": "error",
     "traceback": [
      "\u001b[0;31m---------------------------------------------------------------------------\u001b[0m",
      "\u001b[0;31mIndexError\u001b[0m                                Traceback (most recent call last)",
      "\u001b[0;32m<ipython-input-103-5e435b6c789e>\u001b[0m in \u001b[0;36m<module>\u001b[0;34m()\u001b[0m\n\u001b[1;32m     88\u001b[0m \u001b[0;34m\u001b[0m\u001b[0m\n\u001b[1;32m     89\u001b[0m \u001b[0;32mfor\u001b[0m \u001b[0mi\u001b[0m \u001b[0;32min\u001b[0m \u001b[0msavings_index\u001b[0m\u001b[0;34m:\u001b[0m\u001b[0;34m\u001b[0m\u001b[0m\n\u001b[0;32m---> 90\u001b[0;31m     \u001b[0mprint\u001b[0m\u001b[0;34m(\u001b[0m\u001b[0mmerge_pair\u001b[0m\u001b[0;34m(\u001b[0m\u001b[0mi\u001b[0m\u001b[0;34m,\u001b[0m\u001b[0mroute\u001b[0m\u001b[0;34m)\u001b[0m\u001b[0;34m)\u001b[0m\u001b[0;34m\u001b[0m\u001b[0m\n\u001b[0m\u001b[1;32m     91\u001b[0m \u001b[0;34m\u001b[0m\u001b[0m\n\u001b[1;32m     92\u001b[0m \u001b[0;31m# merge_pair(1,route)\u001b[0m\u001b[0;34m\u001b[0m\u001b[0;34m\u001b[0m\u001b[0m\n",
      "\u001b[0;32m<ipython-input-103-5e435b6c789e>\u001b[0m in \u001b[0;36mmerge_pair\u001b[0;34m(pair_index, route)\u001b[0m\n\u001b[1;32m     52\u001b[0m                     \u001b[0mtemp\u001b[0m \u001b[0;34m=\u001b[0m \u001b[0mlist\u001b[0m\u001b[0;34m(\u001b[0m\u001b[0mroute\u001b[0m\u001b[0;34m.\u001b[0m\u001b[0mkeys\u001b[0m\u001b[0;34m(\u001b[0m\u001b[0;34m)\u001b[0m\u001b[0;34m)\u001b[0m\u001b[0;34m\u001b[0m\u001b[0m\n\u001b[1;32m     53\u001b[0m                     \u001b[0mi\u001b[0m \u001b[0;34m=\u001b[0m \u001b[0mtemp\u001b[0m\u001b[0;34m[\u001b[0m\u001b[0mindex_i\u001b[0m\u001b[0;34m]\u001b[0m\u001b[0;34m\u001b[0m\u001b[0m\n\u001b[0;32m---> 54\u001b[0;31m                     \u001b[0mj\u001b[0m \u001b[0;34m=\u001b[0m \u001b[0mtemp\u001b[0m\u001b[0;34m[\u001b[0m\u001b[0mnext_j\u001b[0m\u001b[0;34m]\u001b[0m \u001b[0;31m# worry (*_*)\u001b[0m\u001b[0;34m\u001b[0m\u001b[0m\n\u001b[0m\u001b[1;32m     55\u001b[0m                     \u001b[0;32mif\u001b[0m \u001b[0mdeque_capacity\u001b[0m\u001b[0;34m(\u001b[0m\u001b[0mi\u001b[0m\u001b[0;34m)\u001b[0m\u001b[0;34m+\u001b[0m\u001b[0mdeque_capacity\u001b[0m\u001b[0;34m(\u001b[0m\u001b[0mj\u001b[0m\u001b[0;34m)\u001b[0m\u001b[0;34m<=\u001b[0m \u001b[0mC\u001b[0m\u001b[0;34m*\u001b[0m\u001b[0;36m999\u001b[0m \u001b[0;34m:\u001b[0m\u001b[0;31m# not exceeding capacity\u001b[0m\u001b[0;34m\u001b[0m\u001b[0m\n\u001b[1;32m     56\u001b[0m                         \u001b[0;32mif\u001b[0m \u001b[0;34m(\u001b[0m\u001b[0ms\u001b[0m\u001b[0;34m[\u001b[0m\u001b[0;36m0\u001b[0m\u001b[0;34m]\u001b[0m\u001b[0;34m==\u001b[0m\u001b[0mi\u001b[0m\u001b[0;34m[\u001b[0m\u001b[0;36m0\u001b[0m\u001b[0;34m]\u001b[0m \u001b[0;32mand\u001b[0m \u001b[0ms\u001b[0m\u001b[0;34m[\u001b[0m\u001b[0;36m1\u001b[0m\u001b[0;34m]\u001b[0m\u001b[0;34m==\u001b[0m\u001b[0mj\u001b[0m\u001b[0;34m[\u001b[0m\u001b[0;36m1\u001b[0m\u001b[0;34m]\u001b[0m\u001b[0;34m)\u001b[0m \u001b[0;32mor\u001b[0m \u001b[0;34m(\u001b[0m\u001b[0ms\u001b[0m\u001b[0;34m[\u001b[0m\u001b[0;36m1\u001b[0m\u001b[0;34m]\u001b[0m\u001b[0;34m==\u001b[0m\u001b[0mi\u001b[0m\u001b[0;34m[\u001b[0m\u001b[0;36m0\u001b[0m\u001b[0;34m]\u001b[0m \u001b[0;32mand\u001b[0m \u001b[0ms\u001b[0m\u001b[0;34m[\u001b[0m\u001b[0;36m0\u001b[0m\u001b[0;34m]\u001b[0m\u001b[0;34m==\u001b[0m\u001b[0mj\u001b[0m\u001b[0;34m[\u001b[0m\u001b[0;36m1\u001b[0m\u001b[0;34m]\u001b[0m\u001b[0;34m)\u001b[0m\u001b[0;34m:\u001b[0m \u001b[0;31m# merge only starting and ending points\u001b[0m\u001b[0;34m\u001b[0m\u001b[0m\n",
      "\u001b[0;31mIndexError\u001b[0m: list index out of range"
     ]
    }
   ],
   "source": [
    "from collections import deque\n",
    "\n",
    "demand = demandList\n",
    "distance = distanceMatrix\n",
    "capacity = C\n",
    "\n",
    "\n",
    "# 1)initialize solutions\n",
    "route = {}\n",
    "for i in range(1,len(distance)):\n",
    "    temp=(i,i)\n",
    "    route[temp] = deque('%s' %i) #'0' and '-' is set be added later\n",
    "# print(route)\n",
    "\n",
    "\n",
    "# 2) calculate savings \n",
    "num_node = len(distance)\n",
    "savings_pair = {}\n",
    "savings_value = {}\n",
    "key_index = 0\n",
    "for i in range(1,num_node):\n",
    "    for j in range(num_node):\n",
    "        if i<j:\n",
    "            temp = []\n",
    "            temp.append(i)\n",
    "            temp.append(j)\n",
    "            savings_pair[key_index]=temp\n",
    "            savings_value[key_index]= distance[i][0] + distance[j][0] - distance[i][j]\n",
    "            key_index +=1                \n",
    "# print(savings_pair)\n",
    "# print(savings_value)\n",
    "# print(sorted(savings_value.items(), key=lambda x:x[1],reverse=True))\n",
    "\n",
    "savings_index=[]\n",
    "for item in sorted(savings_value.items(), key=lambda x:x[1],reverse=True):\n",
    "    if item[1]>0:\n",
    "        savings_index.append(item[0])    \n",
    "# print(savings_index)\n",
    "\n",
    "\n",
    "\n",
    "      \n",
    "def merge_pair(pair_index,route):\n",
    "    changed =0\n",
    "    s = savings_pair[pair_index]\n",
    "    index_max = len(route.keys())\n",
    "    for index_i in range(index_max):\n",
    "        for index_j in range(index_i,index_max): # merge should happen between two routes and node pair with both nodes on same route is not mergable\n",
    "                next_j = index_j+1\n",
    "                if next_j <= index_max-1:\n",
    "                    print(index_i,next_j)\n",
    "                    temp = list(route.keys())\n",
    "                    i = temp[index_i]\n",
    "                    j = temp[next_j] # worry (*_*)\n",
    "                    if deque_capacity(i)+deque_capacity(j)<= C*999 :# not exceeding capacity\n",
    "                        if (s[0]==i[0] and s[1]==j[1]) or (s[1]==i[0] and s[0]==j[1]): # merge only starting and ending points\n",
    "                                for item in list(route[i]):\n",
    "                                    route[j].append(item)\n",
    "                                del route[i]\n",
    "                                changed =1\n",
    "                        elif (s[0]==i[1] and s[1]==j[0]) or (s[1]==i[1] and s[0]==j[0]):\n",
    "                                for item in list(route[j]):\n",
    "                                    route[i].appendx(item)\n",
    "                                del route[j]\n",
    "                                changed =1\n",
    "                        elif (s[0]==i[1] and s[1]==j[1]) or (s[1]==i[1] and s[0]==j[1]):\n",
    "                                for item in list(route[j])[::-1]:\n",
    "                                    route[i].append(item)\n",
    "                                del route[j]\n",
    "                                changed =1\n",
    "                        elif (s[0]==i[0] and s[1]==j[0]) or (s[1]==i[0] and s[0]==j[0]):\n",
    "                                for item in list(route[j]):\n",
    "                                    route[i].appendleft(item)\n",
    "                                del route[j]\n",
    "                                changed =1      \n",
    "    result=[]\n",
    "    result.append(changed)\n",
    "    result.append(route)\n",
    "    return result\n",
    "\n",
    "# print(savings_pair)\n",
    "\n",
    "# print(sorted(savings_value.items(), key=lambda x:x[1],reverse=True))\n",
    "\n",
    "# print(savings_index)\n",
    "\n",
    "# print(savings_index[0])\n",
    "\n",
    "for i in savings_index:\n",
    "    print(merge_pair(i,route))\n",
    "\n",
    "# merge_pair(1,route)\n",
    "\n",
    "\n",
    "# print(len(route.keys()))"
   ]
  },
  {
   "cell_type": "code",
   "execution_count": null,
   "metadata": {
    "collapsed": true
   },
   "outputs": [],
   "source": [
    "def merge_pair(s):\n",
    "    nodes = savings_pair[s]\n",
    "    if nodes[0] in route.keys() and nodes[1] in route.keys(): #starting and ending points\n",
    "        deque1 = route[nodes[0]]\n",
    "        deque2 = route[nodes[1]]\n",
    "        if set(deque1) != set(deque2): # not on the same route\n",
    "            if deque_capacity(deque1)+deque_capacity(deque2)<=C: # not exceeding capacity\n",
    "                route[nodes[0]].append[nodes[1]]\n",
    "                route[nodes[1]].append[nodes[1]] # keeping route numbered with increasing node ids"
   ]
  },
  {
   "cell_type": "code",
   "execution_count": 64,
   "metadata": {
    "collapsed": false
   },
   "outputs": [
    {
     "name": "stdout",
     "output_type": "stream",
     "text": [
      "deque(['1', '2', '3', '4', '7', '6', '5', '4'])\n"
     ]
    }
   ],
   "source": [
    "from collections import deque\n",
    "d1 = deque('1234')\n",
    "d2 = deque('4567')\n",
    "for i in list(d2)[::-1]:\n",
    "    d1.append(i)\n",
    "print (d1)\n",
    "\n",
    "\n"
   ]
  },
  {
   "cell_type": "code",
   "execution_count": null,
   "metadata": {
    "collapsed": true
   },
   "outputs": [],
   "source": []
  }
 ],
 "metadata": {
  "anaconda-cloud": {},
  "kernelspec": {
   "display_name": "Python [Root]",
   "language": "python",
   "name": "Python [Root]"
  },
  "language_info": {
   "codemirror_mode": {
    "name": "ipython",
    "version": 3
   },
   "file_extension": ".py",
   "mimetype": "text/x-python",
   "name": "python",
   "nbconvert_exporter": "python",
   "pygments_lexer": "ipython3",
   "version": "3.5.2"
  }
 },
 "nbformat": 4,
 "nbformat_minor": 0
}
