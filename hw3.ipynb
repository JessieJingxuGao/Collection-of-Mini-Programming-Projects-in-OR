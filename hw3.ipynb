{
 "cells": [
  {
   "cell_type": "code",
   "execution_count": 83,
   "metadata": {
    "collapsed": false
   },
   "outputs": [
    {
     "data": {
      "application/javascript": [
       "IPython.notebook.set_autosave_interval(60000)"
      ]
     },
     "metadata": {},
     "output_type": "display_data"
    },
    {
     "name": "stdout",
     "output_type": "stream",
     "text": [
      "Autosaving every 60 seconds\n"
     ]
    }
   ],
   "source": [
    "%autosave 60\n",
    "import numpy as np\n",
    "import pandas as pd"
   ]
  },
  {
   "cell_type": "markdown",
   "metadata": {},
   "source": [
    "# Q1\n",
    "## P-center greedy heuristics "
   ]
  },
  {
   "cell_type": "markdown",
   "metadata": {},
   "source": [
    "#### Dijkstra Algorithm to find distances between every pair of nodes\n",
    "https://github.com/xsank/cabbird/blob/master/graph/dijkstra.py"
   ]
  },
  {
   "cell_type": "code",
   "execution_count": 29,
   "metadata": {
    "collapsed": false
   },
   "outputs": [
    {
     "name": "stdout",
     "output_type": "stream",
     "text": [
      "{'a': {'a': 0, 'g': 14, 'd': 5, 'c': 4, 'f': 7, 'e': 12, 'b': 7}, 'g': {'a': 14, 'g': 0, 'd': 9, 'c': 11, 'f': 8, 'e': 6, 'b': 11}, 'd': {'a': 5, 'g': 9, 'd': 0, 'c': 7, 'f': 5, 'e': 15, 'b': 12}, 'c': {'a': 4, 'g': 11, 'd': 7, 'c': 0, 'f': 3, 'e': 16, 'b': 11}, 'f': {'a': 7, 'g': 8, 'd': 5, 'c': 3, 'f': 0, 'e': 14, 'b': 14}, 'e': {'a': 12, 'g': 6, 'd': 15, 'c': 16, 'f': 14, 'e': 0, 'b': 5}, 'b': {'a': 7, 'g': 11, 'd': 12, 'c': 11, 'f': 14, 'e': 5, 'b': 0}}\n"
     ]
    }
   ],
   "source": [
    "from collections import defaultdict\n",
    "\n",
    "def dijkstra(g,start,end):\n",
    "    if start==end:\n",
    "        return 0\n",
    "    if not (start in g and end in g):\n",
    "        raise Exception('invalid node %s or %s' % (start,end))\n",
    "    labels={}\n",
    "    path=defaultdict(list)\n",
    "    for vertex in g:\n",
    "        labels[vertex]=0 if vertex==start else float(\"inf\")\n",
    "    drops=labels.copy()\n",
    "    while drops:\n",
    "        min_v=min(drops,key=drops.get)\n",
    "        path[min_v].append(min_v)\n",
    "        for i in g[min_v]:\n",
    "            if labels[i]>(labels[min_v]+g[min_v][i]):\n",
    "                drops[i]=labels[i]=labels[min_v]+g[min_v][i]\n",
    "                path[i]=[]\n",
    "                path[i].extend(path[min_v])\n",
    "        del drops[min_v]\n",
    "#     result=[]\n",
    "#     result.append(path[end])\n",
    "#     result.append(labels[end])\n",
    "    return labels[end]\n",
    "\n",
    "def get_vertices(g):\n",
    "    temp=[]\n",
    "    for item in g:\n",
    "        temp.append(item)\n",
    "    return temp\n",
    "\n",
    "if __name__==\"__main__\":\n",
    "    \n",
    "    G = {\n",
    "    'a':{'b':7,'c':4,'d':5},\n",
    "    'b':{'a':7,'e':5},\n",
    "    'c':{'a':4,'d':7,'f':3},\n",
    "    'd':{'a':5,'c':7,'f':5,'g':9},\n",
    "    'e':{'b':5,'g':6},\n",
    "    'f':{'c':3,'d':5,'g':8},\n",
    "    'g':{'d':9,'e':6,'f':8}\n",
    "}\n",
    "    \n",
    "    \n",
    "#     dijkstra(G,'a','f')\n",
    "\n",
    "    Vertices = get_vertices(G)\n",
    "    \n",
    "    Distance_Matrix = {}\n",
    "    for i in Vertices:\n",
    "        Distance_Matrix [i] = {}\n",
    "\n",
    "    for i in Vertices:\n",
    "        for j in Vertices:\n",
    "            Distance_Matrix [i][j] = dijkstra(G,i,j)\n",
    "\n",
    "    print(Distance_Matrix)\n",
    "#     print(Distance_Matrix['a']['f'])\n"
   ]
  },
  {
   "cell_type": "markdown",
   "metadata": {},
   "source": [
    "#### Greedy Heuristics "
   ]
  },
  {
   "cell_type": "code",
   "execution_count": 51,
   "metadata": {
    "collapsed": false
   },
   "outputs": [
    {
     "name": "stdout",
     "output_type": "stream",
     "text": [
      "['a', 'g', 'f']\n"
     ]
    }
   ],
   "source": [
    "s=[]\n",
    "\n",
    "# random choose one node: here we choose the first node in Vertices\n",
    "s.append(Vertices[0])\n",
    "\n",
    "\n",
    "# first iteration\n",
    "temp = 0\n",
    "for j in Vertices:\n",
    "    if j not in s:\n",
    "        if Distance_Matrix [s[0]][j] > temp:\n",
    "            temp = Distance_Matrix [s[0]][j] \n",
    "            firstIter = j\n",
    "s.append(firstIter)  \n",
    "            \n",
    "# later iteration\n",
    "temp = 0\n",
    "for j in Vertices:\n",
    "    if j not in s:\n",
    "        temp2= 9^999\n",
    "        for i in s:\n",
    "#             print(i,j,Distance_Matrix [i][j])\n",
    "            if Distance_Matrix [i][j] < temp2:\n",
    "                temp2 = Distance_Matrix [i][j] \n",
    "#         print(j,\"-\",temp2)\n",
    "        if temp2 > temp:\n",
    "            temp = temp2\n",
    "            nextIter = j\n",
    "            \n",
    "# iteration until\n",
    "s.append(nextIter)        \n",
    "\n",
    "print(s)"
   ]
  },
  {
   "cell_type": "markdown",
   "metadata": {},
   "source": [
    "#### Solution:\n",
    "#### Since we only need to allocate 2 facilities among 7 demand nodes, we could stop when two nodes have been chosen. The facilities should be located at A and G"
   ]
  },
  {
   "cell_type": "markdown",
   "metadata": {
    "collapsed": true
   },
   "source": [
    "# Q3\n",
    "## Clarke & Wright’s savings algorithm\n",
    "\n",
    "Implement the Clarke & Wright’s savings algorithm for the setting we discussed in class. Specifically, we have n demand locations: i = 1, . . . , n, and a location 0 which is the base of our fleet. There is no constraint on the number of vehicles. Each vehicle has a capacity constraint C. You would use the savings algorithm to find a set of routes to cover all demand locations, where each route starts and ends at location 0, and no demand locations appear in more than 1 route.  \n",
    "\n",
    "Your algorithm should return a list of routes, as well as the total demand of each route. For example, in class we ran the savings algorithm manually on an example set of 7 demand nodes and obtained a solution with 4 routes: 0−4−0, 0−5−0, 0−2−3−0, 0−1−7−6−0, each with total demand 16, 15, 18 and 18. For this example your algorithm should return two lists: [[5], [4], [2,3], [1,7,6]], [16, 15, 18, 18], note the order of the two lists must match, i.e., the first entry of the second list must be the demand of the first entry of the first list, and so forth.\n"
   ]
  },
  {
   "cell_type": "markdown",
   "metadata": {},
   "source": [
    "#### Implementation of Clark Wright"
   ]
  },
  {
   "cell_type": "code",
   "execution_count": null,
   "metadata": {
    "collapsed": true
   },
   "outputs": [],
   "source": [
    "def savings_clarke_wright(demand, distance, capacity):\n",
    "      \"\"\"\n",
    "      demand: @list[float], the demand of each location. If there are N demand\n",
    "               locations, this list will be an 1*(N+1) list, where demand[i] is\n",
    "               the demand for location i, for i=1, ..., N. demand[0] is always 0.\n",
    "      distance: @list[list[float]], the distance between each pair of locations.\n",
    "               If there are N demand locations(and 0 is the base), this 2-d list\n",
    "               will have size (N+1)*(N+1), where distance[i][j] is the distance\n",
    "               between location i and location j. You may assume distance[i][i]\n",
    "               is 0 for all i and distance[i][j] = distance[j][i] for all i,j.\n",
    "      capacity: @float, the capacity constraint for each vehicle.\n",
    "      return\n",
    "        routes:@list[list[int]], list of routes computed by the algorithm.\n",
    "        order:@list[float], list of total demand corresponding to each route.\n",
    "      \"\"\"\n",
    "    \n",
    "    \n",
    "    result=[]\n",
    "    result.append(routes)\n",
    "    result.append(order)\n",
    "    return result"
   ]
  },
  {
   "cell_type": "markdown",
   "metadata": {},
   "source": [
    "#### Data input\n",
    "Capacity constraint is 25 units."
   ]
  },
  {
   "cell_type": "code",
   "execution_count": 72,
   "metadata": {
    "collapsed": true
   },
   "outputs": [],
   "source": [
    "C = 25\n",
    "# We could here input as integer rather than float."
   ]
  },
  {
   "cell_type": "markdown",
   "metadata": {},
   "source": [
    "The distance matrix is as follows."
   ]
  },
  {
   "cell_type": "code",
   "execution_count": 76,
   "metadata": {
    "collapsed": false
   },
   "outputs": [
    {
     "data": {
      "text/plain": [
       "array([[ 0.  ,  6.23,  4.48,  2.83,  4.  ,  5.  ,  2.  ,  5.45],\n",
       "       [ 6.23,  0.  ,  5.66,  6.16,  8.  ,  8.24,  7.47,  9.16],\n",
       "       [ 4.48,  5.66,  0.  ,  2.83,  5.66,  8.06,  6.  ,  3.62],\n",
       "       [ 2.83,  6.16,  2.83,  0.  ,  2.83,  5.39,  7.47,  7.07],\n",
       "       [ 4.  ,  8.  ,  5.66,  2.83,  0.  ,  3.  ,  7.47,  2.62],\n",
       "       [ 5.  ,  8.24,  8.06,  5.39,  3.  ,  0.  ,  7.47,  3.5 ],\n",
       "       [ 2.  ,  7.47,  6.  ,  7.47,  7.47,  7.47,  0.  ,  2.16],\n",
       "       [ 5.45,  9.16,  3.62,  7.07,  2.62,  3.5 ,  2.16,  0.  ]])"
      ]
     },
     "execution_count": 76,
     "metadata": {},
     "output_type": "execute_result"
    }
   ],
   "source": [
    "df = pd.read_clipboard(header=None) \n",
    "distanceMatrix = df.as_matrix()\n",
    "distanceMatrix"
   ]
  },
  {
   "cell_type": "markdown",
   "metadata": {},
   "source": [
    "Demand of each node is as follows. Node 0 is deport with 0 demand."
   ]
  },
  {
   "cell_type": "code",
   "execution_count": 77,
   "metadata": {
    "collapsed": false
   },
   "outputs": [
    {
     "data": {
      "text/plain": [
       "array([ 0, 10, 12,  6, 13, 14,  7, 10])"
      ]
     },
     "execution_count": 77,
     "metadata": {},
     "output_type": "execute_result"
    }
   ],
   "source": [
    "df = pd.read_clipboard(header=None) \n",
    "demandMatrix = df.as_matrix()\n",
    "demandMatrix = demandMatrix.T\n",
    "demandlist = demandMatrix[0] # array([[ 75,...,25]])\n",
    "demandlist\n",
    "# We could here input as integer rather than float."
   ]
  },
  {
   "cell_type": "markdown",
   "metadata": {
    "collapsed": false
   },
   "source": [
    "#### Model solving"
   ]
  },
  {
   "cell_type": "code",
   "execution_count": null,
   "metadata": {
    "collapsed": true
   },
   "outputs": [],
   "source": [
    "if __name__==\"__main__\":\n",
    "    print(savings_clarke_wright(demandlist, distanceMatrix, C))"
   ]
  },
  {
   "cell_type": "code",
   "execution_count": 82,
   "metadata": {
    "collapsed": false
   },
   "outputs": [
    {
     "name": "stdout",
     "output_type": "stream",
     "text": [
      "[ 0 10 12  6 13 14  7 10]\n"
     ]
    },
    {
     "data": {
      "text/plain": [
       "25"
      ]
     },
     "execution_count": 82,
     "metadata": {},
     "output_type": "execute_result"
    }
   ],
   "source": []
  },
  {
   "cell_type": "code",
   "execution_count": 89,
   "metadata": {
    "collapsed": false
   },
   "outputs": [
    {
     "name": "stdout",
     "output_type": "stream",
     "text": [
      "deque(['1', '2'])\n",
      "22\n"
     ]
    },
    {
     "name": "stderr",
     "output_type": "stream",
     "text": [
      "/Users/Jessie/anaconda/lib/python3.5/site-packages/ipykernel/__main__.py:21: VisibleDeprecationWarning: using a non-integer number instead of an integer will result in an error in the future\n"
     ]
    }
   ],
   "source": [
    "demand = demandlist\n",
    "distance = distanceMatrix\n",
    "capacity = C\n",
    "\n",
    "# use double ended que (deque) to represent route\n",
    "from collections import deque\n",
    "\n",
    "# Only the starting or ending node on a route can be merged\n",
    "# Use a dict (python implements it by hashmap) to store the starting and ending node on a route to improve efficiency\n",
    "route = {}\n",
    "for i in range(1,len(distanceMatrix)):\n",
    "    route[i] = deque('%s' %i) #'0' and '-' is set be added later\n",
    "# print(route)\n",
    "\n",
    "\n",
    "savings=[]\n",
    "\n",
    "def deque_capacity(d):\n",
    "    temp=0\n",
    "    for item in d:\n",
    "         temp+=demandlist[item]\n",
    "    return temp\n",
    " \n",
    "    \n",
    "    \n",
    "m=deque('12')\n",
    "print(m)\n",
    "print(deque_capacity(m))\n",
    "\n",
    "\n"
   ]
  },
  {
   "cell_type": "code",
   "execution_count": null,
   "metadata": {
    "collapsed": true
   },
   "outputs": [],
   "source": []
  }
 ],
 "metadata": {
  "anaconda-cloud": {},
  "kernelspec": {
   "display_name": "Python [Root]",
   "language": "python",
   "name": "Python [Root]"
  },
  "language_info": {
   "codemirror_mode": {
    "name": "ipython",
    "version": 3
   },
   "file_extension": ".py",
   "mimetype": "text/x-python",
   "name": "python",
   "nbconvert_exporter": "python",
   "pygments_lexer": "ipython3",
   "version": "3.5.2"
  }
 },
 "nbformat": 4,
 "nbformat_minor": 0
}
