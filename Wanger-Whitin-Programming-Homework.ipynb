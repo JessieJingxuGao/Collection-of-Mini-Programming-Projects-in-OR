{
 "cells": [
  {
   "cell_type": "markdown",
   "metadata": {},
   "source": [
    "# E-logistics - Programming HW - 1"
   ]
  },
  {
   "cell_type": "markdown",
   "metadata": {},
   "source": [
    "In this assignment, you will implement the Wagner-Whitin Algorithm. You could either implement the original version we introduced in Lecture 7, or the shortest path formulation we discussed in Lecture 8. If you choose the latter way, you could either implement the dynamic programming version we discussed in class, making use of the fact that the graph is a layered graph, or you may implement the Dijkstra algorithm yourself.  "
   ]
  },
  {
   "cell_type": "markdown",
   "metadata": {},
   "source": [
    "## Dynamic Lot Sizing by Dynamic Programing (Wagner-Whitin Algorithm)"
   ]
  },
  {
   "cell_type": "code",
   "execution_count": 1,
   "metadata": {
    "collapsed": false
   },
   "outputs": [
    {
     "data": {
      "application/javascript": [
       "IPython.notebook.set_autosave_interval(60000)"
      ]
     },
     "metadata": {},
     "output_type": "display_data"
    },
    {
     "name": "stdout",
     "output_type": "stream",
     "text": [
      "Autosaving every 60 seconds\n"
     ]
    }
   ],
   "source": [
    "%autosave 60"
   ]
  },
  {
   "cell_type": "code",
   "execution_count": 2,
   "metadata": {
    "collapsed": false
   },
   "outputs": [],
   "source": [
    "__author__ = \"Jessie Gao\"\n",
    "__credits__ = [\"course_instructer = Pu Yang\", \"test_case = https://ocw.mit.edu/courses/engineering-systems-division/esd-260j-logistics-systems-fall-2006/lecture-notes/lect9.pdf\"]\n",
    "__version__ = [\"1.0\",\"last updated Mar 10,2017\"]\n",
    "__email__ = \"jg2238@cornell.edu\"\n",
    "__status__ = \"completed assignment\"\n",
    "\n",
    "import numpy as np\n",
    "\n",
    "def wagner_whitin(K, h, demand):\n",
    "    \"\"\"\n",
    "    K:@float, the fixed ordering cost.\n",
    "    h:@float, the holding cost.\n",
    "    demand:@list[float], an array of demand for each period.\n",
    "    return\n",
    "       c:@float, optimal total fixed ordering and holding costs.\n",
    "       order:@list[float], optimal number of purchase at each period.\n",
    "    If there are more than one policy that achieves the minimum total cost, you just need to return anyone of them\n",
    "    \"\"\"\n",
    "    \n",
    "    T = len(demand)\n",
    "    \n",
    "    # initialize F(t)\n",
    "    F = [float(\"inf\")]*(T+1) \n",
    "    F[0] = 0\n",
    "    \n",
    "    # initialize f(s,t)\n",
    "    f = np.zeros([T+1,T+1]) \n",
    "        #(*,*) F different from f, o.w., F(-1) for first step of loop\n",
    "        #(*,*) assume supports for all temp variables are all 0,1,...T, but f(0,0) is ignored by later for loop\n",
    "        #(*,*) demand index is still 0,1,2...T-1\n",
    "        #(*,*) order index should be 0,1,2...T-1\n",
    "    \n",
    "    # initialize order(t)\n",
    "    order = np.zeros(T) #(*,*) order index should be 0,1,2...T-1\n",
    "    \n",
    "    #initilize o(t)\n",
    "    o = [0]*(T+1) # (*.*) np.zeros will make this float, later error when treating this as index  \n",
    "    #initilize c\n",
    "    c=0\n",
    "    \n",
    "    # W-W Algo core cycle\n",
    "    for s in range(1,T+1):  \n",
    "        for t in range(s,T+1): #(*.*) t>=s, that's all\n",
    "            if h*(t-s)>= K: \n",
    "                break\n",
    "            if t==s:\n",
    "                f[s][s] = F[s-1] + K\n",
    "            else:\n",
    "                f[s][t] = f[s][t-1] + h*(t-s) * demand[t-1]  #(*,*) demand is still 0,10...T-1\n",
    "            if f[s][t] <= F[t]:\n",
    "                F[t] = f[s][t]\n",
    "                o[t] = s\n",
    "    \n",
    "    # output cost\n",
    "    c = F[T]  \n",
    "\n",
    "    # calculate order\n",
    "    s = T\n",
    "    while (s > 1):\n",
    "        temp = 0\n",
    "        for k in range(o[s],s+1): #(*,*) be careful about range right-end \n",
    "            temp+= demand[k-1] #(*,*) order index should be 0,1,2...T-1\n",
    "        order[o[s]-1]= temp\n",
    "        s = o[s] -1\n",
    "        \n",
    "    result=[]\n",
    "    result.append(c)\n",
    "    result.append(order)\n",
    "    return result\n"
   ]
  },
  {
   "cell_type": "markdown",
   "metadata": {},
   "source": [
    "Here we use example in\n",
    "https://ocw.mit.edu/courses/engineering-systems-division/esd-260j-logistics-systems-fall-2006/lecture-notes/lect9.pdf\"\n",
    "as test cast. Correct solution is obtained."
   ]
  },
  {
   "cell_type": "code",
   "execution_count": 3,
   "metadata": {
    "collapsed": false
   },
   "outputs": [
    {
     "name": "stdout",
     "output_type": "stream",
     "text": [
      "optimal total cost, including holding and order\n",
      "3750.0\n",
      "optimal purchase amount per period\n",
      "[ 550.    0.    0.    0.    0.  450.    0.    0.  450.    0.  550.    0.]\n"
     ]
    }
   ],
   "source": [
    "def main():        \n",
    "    \"\"\"\n",
    "    Test Case: demands for sequential 12 months\n",
    "    \"\"\"\n",
    "    orderCost = 500.0\n",
    "    holdingCost = 1.0\n",
    "    Demand = [200.0, 150.0, 100.0, 50.0, 50.0, 100.0, 150.0, 200.0, 200.0, 250.0, 300.0, 250.0]\n",
    "    solution = wagner_whitin(orderCost,holdingCost,Demand)\n",
    "    return solution\n",
    "\n",
    "if __name__ == '__main__' :\n",
    "    print(\"optimal total cost, including holding and order\")\n",
    "    print(main()[0])\n",
    "    print(\"optimal purchase amount per period\")\n",
    "    print(main()[1])"
   ]
  }
 ],
 "metadata": {
  "anaconda-cloud": {},
  "kernelspec": {
   "display_name": "Python [Root]",
   "language": "python",
   "name": "Python [Root]"
  },
  "language_info": {
   "codemirror_mode": {
    "name": "ipython",
    "version": 3
   },
   "file_extension": ".py",
   "mimetype": "text/x-python",
   "name": "python",
   "nbconvert_exporter": "python",
   "pygments_lexer": "ipython3",
   "version": "3.5.2"
  }
 },
 "nbformat": 4,
 "nbformat_minor": 0
}
