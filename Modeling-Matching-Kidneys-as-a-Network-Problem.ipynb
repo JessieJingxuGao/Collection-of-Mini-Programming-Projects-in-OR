{
 "cells": [
  {
   "cell_type": "markdown",
   "metadata": {},
   "source": [
    "# Modeling Matching Kidneys as a Network Problem and Solving it by calling Gurobi"
   ]
  },
  {
   "cell_type": "markdown",
   "metadata": {},
   "source": [
    "A relatively recent development in organ donations (specically kidneys) is that of Kidney exchanges.  If Betsy needs a kidney and her spouse John can donate one but cannot donate to Betsy (say, because they have different blood types) then they can join a kidney exchange.  If another couple (say Jim and Tracy) in the exchange have the same problem but Jim, who needs the kidney, is compatible with Betsy and Tracyis compatible with John then they can make a \"swap\".  Betsy can get Tracy's kidney and Jim will get John's.  They can be matched.Such types of transfers can also happen in cycles of more than just two pairs.  It could be that we have three pairs (A,B), (C,D) and (E,F) where A gets D's kidney C gets F's and E gets B's. What is feasible depends on the compatibility of the pairs.  "
   ]
  },
  {
   "cell_type": "markdown",
   "metadata": {},
   "source": [
    "Somewhat simplifying this reality, the problemcan be viewed as a network where each input stream models pairs of a certain type (say, all pairs wherethe person-in-need has blood type Q and the donor has blood-type W). In the network, there are four input types(1,2,3,4). There is a finite number of matching types. A matching is taking of one job from each of the input streams that participate in this matching.  You can either matching a pair of type 1 with a pair of type 2 or match three pairs of types 2, 3 and 4."
   ]
  },
  {
   "cell_type": "markdown",
   "metadata": {},
   "source": [
    "A match of type 1, when executed, means that a type-1 pair and a type-2 pairs are taken one from each of their queues, the kidney's are exchanges and the two pairs leave immediately. A matching of type 2,means this happens with one pair of each of the 3 queues.  Thus, using a type-2 matching means serving three pairs while using a type-1 matching means only serving two. Notice that if you have only 100 type-2 pairs arriving per year, you cannot match more than a 100 type-1pairs because these need type 2 pairs."
   ]
  },
  {
   "cell_type": "markdown",
   "metadata": {},
   "source": [
    "# Model"
   ]
  },
  {
   "cell_type": "markdown",
   "metadata": {},
   "source": [
    "Formulate a network model with J input types,I possible matchings and a matrix A which specifes feasible matchings.</br>\n",
    "Let $\\lambda_{1}$,...,$\\lambda_{J}$ be the arrival rates of the different inputs types (think of $\\lambda_{i}$ the number of type-i pairs arriving to the exchange per year).Let V1,...,VJ be  the  values.  That is,Vi is  the  value  of  serving  a  type-i pair  (thinks  of  this  as  a quantifer of the improvement of quality of life for this pair from being matched and getting a healthy kidney)"
   ]
  },
  {
   "cell_type": "markdown",
   "metadata": {},
   "source": [
    "Demote arrival rate for matching $1,2,...,I$ as $t_{i}$ \n",
    "\n",
    "$max$ $\\sum_{j}V_{j}\\sum_{i}A_{ij}t_{i}$\n",
    "\n",
    "$s.t.$ $\\sum_{j}A_{ij}t_{i}\\leq\\lambda_{j,}\\forall j\\in\\{1,2,...,J\\}$\n",
    "\n",
    "$t_{i}\\geq0,\\forall i\\in\\{1,2,...,I\\}$"
   ]
  },
  {
   "cell_type": "markdown",
   "metadata": {},
   "source": [
    "# Solving by Gurobi "
   ]
  },
  {
   "cell_type": "markdown",
   "metadata": {},
   "source": [
    "Test Case \\lambda= (100;120;80;80),v = (10;5;5;4)"
   ]
  },
  {
   "cell_type": "code",
   "execution_count": 4,
   "metadata": {
    "collapsed": false
   },
   "outputs": [
    {
     "name": "stdout",
     "output_type": "stream",
     "text": [
      "Optimize a model with 4 rows, 2 columns and 5 nonzeros\n",
      "Coefficient statistics:\n",
      "  Matrix range     [1e+00, 1e+00]\n",
      "  Objective range  [1e+01, 2e+01]\n",
      "  Bounds range     [0e+00, 0e+00]\n",
      "  RHS range        [8e+01, 1e+02]\n",
      "Presolve removed 3 rows and 0 columns\n",
      "Presolve time: 0.01s\n",
      "Presolved: 1 rows, 2 columns, 2 nonzeros\n",
      "\n",
      "Iteration    Objective       Primal Inf.    Dual Inf.      Time\n",
      "       0    2.6200000e+03   6.000000e+01   0.000000e+00      0s\n",
      "       1    1.7800000e+03   0.000000e+00   0.000000e+00      0s\n",
      "\n",
      "Solved in 1 iterations and 0.01 seconds\n",
      "Optimal objective  1.780000000e+03\n",
      "100.0\n",
      "20.0\n"
     ]
    }
   ],
   "source": [
    "from gurobipy import *\n",
    "\n",
    "# create a new model\n",
    "myModel = Model( \"Online-HW1\" )\n",
    "\n",
    "#-------.dat-----------\n",
    "# there are 71 papers and 21 referees\n",
    "noType = 4\n",
    "noMatching = 2\n",
    "\n",
    "#parameter: rate\n",
    "rate = [100,120,80,80]\n",
    "\n",
    "#parameter: value\n",
    "v=[10,5,5,4]\n",
    "\n",
    "#parameter: assignment\n",
    "A=[[1,1,0,0],[0,1,1,1]]\n",
    "\n",
    "#-------.mod-----------\n",
    "# create decision variables and store them in the array myVars\n",
    "myVars =[]\n",
    "for i in range (noMatching):\n",
    "    myVars.append(1)\n",
    "\n",
    "for i in range(noMatching):\n",
    "    curVar = myModel.addVar(vtype = GRB.CONTINUOUS ,name= \"x\"+str(i),lb=0.0)\n",
    "    myVars[i] = curVar\n",
    "# integrate decision variables into the model\n",
    "myModel.update()\n",
    "\n",
    "# create a linear expression for the objective\n",
    "objExpr = LinExpr()\n",
    "for j in range(noType):\n",
    "    for i in range(noMatching):\n",
    "        curVar = myVars[i]\n",
    "        objExpr += v[j]* A[i][j] * curVar\n",
    "myModel.setObjective( objExpr , GRB.MAXIMIZE )\n",
    "\n",
    "\n",
    "# create constraints\n",
    "for j in range(noType):\n",
    "    constExpr = LinExpr()\n",
    "    for i in range(noMatching):\n",
    "        curVar = myVars[i]\n",
    "        constExpr += A[i][j] * curVar\n",
    "    myModel.addConstr( lhs = constExpr, sense = GRB.LESS_EQUAL , rhs = rate[j], \\\n",
    "                       name = \"type\"+str(j))\n",
    "\n",
    "# integrate objective and constraints into the model\n",
    "myModel.update()\n",
    "\n",
    "# write the model in a file to make sure it is constructed correctly\n",
    "myModel.write( filename = \"HW1.lp\" )\n",
    "\n",
    "# optimize the model\n",
    "myModel.optimize()\n",
    "# print( \"\\nOptimal Solution:\" )\n",
    "allVars = myModel.getVars()\n",
    "\n",
    "# output result\n",
    "for curVar in allVars:\n",
    "    print(curVar.x)\n"
   ]
  },
  {
   "cell_type": "code",
   "execution_count": null,
   "metadata": {
    "collapsed": true
   },
   "outputs": [],
   "source": []
  }
 ],
 "metadata": {
  "kernelspec": {
   "display_name": "Python [Root]",
   "language": "python",
   "name": "Python [Root]"
  },
  "language_info": {
   "codemirror_mode": {
    "name": "ipython",
    "version": 3
   },
   "file_extension": ".py",
   "mimetype": "text/x-python",
   "name": "python",
   "nbconvert_exporter": "python",
   "pygments_lexer": "ipython3",
   "version": "3.5.2"
  }
 },
 "nbformat": 4,
 "nbformat_minor": 0
}
